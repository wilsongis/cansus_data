{
 "cells": [
  {
   "cell_type": "code",
   "execution_count": 5,
   "metadata": {},
   "outputs": [
    {
     "name": "stdout",
     "output_type": "stream",
     "text": [
      "Output: ../src/data/ProcessedData/r1.csv\n",
      "Output: ../src/data/ProcessedData/r2.csv\n",
      "Output: ../src/data/ProcessedData/r3.csv\n",
      "Output: ../src/data/ProcessedData/r4.csv\n",
      "Output: ../src/data/ProcessedData/r5.csv\n",
      "Output: ../src/data/ProcessedData/r6.csv\n",
      "Output: ../src/data/ProcessedData/r7.csv\n",
      "Output: ../src/data/ProcessedData/r8.csv\n",
      "Output: ../src/data/ProcessedData/r9.csv\n",
      "Output: ../src/data/ProcessedData/r10.csv\n",
      "Output: ../src/data/ProcessedData/r11.csv\n",
      "Output: ../src/data/ProcessedData/r12.csv\n",
      "Output: ../src/data/ProcessedData/r13.csv\n",
      "Output: ../src/data/ProcessedData/r14.csv\n",
      "Output: ../src/data/ProcessedData/r15.csv\n",
      "Output: ../src/data/ProcessedData/r16.csv\n",
      "Output: ../src/data/ProcessedData/r17.csv\n",
      "Output: ../src/data/ProcessedData/r18.csv\n",
      "Output: ../src/data/ProcessedData/r19.csv\n",
      "Output: ../src/data/ProcessedData/r20.csv\n",
      "Output: ../src/data/ProcessedData/r21.csv\n",
      "Output: ../src/data/ProcessedData/r22.csv\n",
      "Output: ../src/data/ProcessedData/r23.csv\n",
      "Output: ../src/data/ProcessedData/r24.csv\n",
      "Output: ../src/data/ProcessedData/r25.csv\n",
      "Output: ../src/data/ProcessedData/r26.csv\n",
      "Output: ../src/data/ProcessedData/r27.csv\n",
      "Output: ../src/data/ProcessedData/r28.csv\n"
     ]
    }
   ],
   "source": [
    "#manipulate dataframes in python\n",
    "import pandas as pd\n",
    "import sys\n",
    "\n",
    "#make API calls with python\n",
    "import requests\n",
    "\n",
    "import localvars\n",
    "\n",
    "#allows us to store results of API call cleanly\n",
    "import json\n",
    "\n",
    "# List of Years\n",
    "strYears =[\"2010\",\"2013\", \"2014\", \"2015\", \"2016\", \"2017\"]\n",
    "\n",
    "tables = pd.read_csv(\"../src/data/tables.csv\").to_dict(orient=\"row\")\n",
    "tablesdf = pd.DataFrame(tables)\n",
    "tablesdf2 = tablesdf.set_index(\"table\", drop = False)\n",
    "for index, row in tablesdf2.iterrows():\n",
    "    tablename= row['table']\n",
    "    #print(\"value: \" + tablesdf2.loc[tablename,'file'])\n",
    "    # Using for loop \n",
    "    metric = pd.DataFrame() #creates a new dataframe that's empty\n",
    "    for i in strYears: \n",
    "\n",
    "        #construct the API call we will use\n",
    "        baseAPI = \"https://api.census.gov/data/%s/acs/acs5?get=%s&for=tract:*&in=state:47%%20county:125&key=%s\" \n",
    "\n",
    "        calledAPI = (baseAPI % (i, row['table'], localvars.apiKey))\n",
    "\n",
    "        #call the API and collect the response\n",
    "        response = requests.get(calledAPI)\n",
    "\n",
    "        #load the response into a JSON, ignoring the first element which is just field labels\n",
    "        try:\n",
    "            formattedResponse = json.loads(response.text)[1:]\n",
    "\n",
    "            #flip the order of the response from [population, zipcode] -> [zipcode, population]\n",
    "            formattedResponse = [item[::-1] for item in formattedResponse]\n",
    "\n",
    "            #store the response in a dataframe\n",
    "            strColYear = \"y_\" + i\n",
    "\n",
    "            metrictemp = pd.DataFrame(columns=['id', '2', '3', strColYear], data=formattedResponse)\n",
    "            del metrictemp['2']\n",
    "            del metrictemp['3']\n",
    "            if i == \"2010\":\n",
    "                metric=metrictemp\n",
    "            else: \n",
    "                metric = metric.merge(metrictemp, on='id', how='outer')\n",
    "        except:\n",
    "            print(\"Unexpected error:\", sys.exc_info()[0])\n",
    "            raise\n",
    "\n",
    "    #save that dataframe to a CSV spreadsheet\n",
    "    strFile = \"../src/data/ProcessedData/\" + row['file'] + \".csv\"\n",
    "    metric.to_csv(strFile, index=False)\n",
    "    print(\"Output: \" + strFile)\n",
    "\n",
    "\n"
   ]
  },
  {
   "cell_type": "code",
   "execution_count": null,
   "metadata": {},
   "outputs": [],
   "source": []
  },
  {
   "cell_type": "code",
   "execution_count": null,
   "metadata": {},
   "outputs": [],
   "source": []
  },
  {
   "cell_type": "code",
   "execution_count": null,
   "metadata": {},
   "outputs": [],
   "source": []
  }
 ],
 "metadata": {
  "kernelspec": {
   "display_name": "Python 3",
   "language": "python",
   "name": "python3"
  },
  "language_info": {
   "codemirror_mode": {
    "name": "ipython",
    "version": 3
   },
   "file_extension": ".py",
   "mimetype": "text/x-python",
   "name": "python",
   "nbconvert_exporter": "python",
   "pygments_lexer": "ipython3",
   "version": "3.6.7"
  }
 },
 "nbformat": 4,
 "nbformat_minor": 2
}
