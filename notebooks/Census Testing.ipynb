{
 "cells": [
  {
   "cell_type": "code",
   "execution_count": 100,
   "metadata": {},
   "outputs": [
    {
     "name": "stdout",
     "output_type": "stream",
     "text": [
      "https://api.census.gov/data/2012/acs/acs5?get=B01001_002E&for=tract:*&in=state:47%20county:125&key=c565c84c8194e4fac85204a34580b7ced55fa09c\n"
     ]
    }
   ],
   "source": [
    "#manipulate dataframes in python\n",
    "import pandas as pd\n",
    "\n",
    "#make API calls with python\n",
    "import requests\n",
    "\n",
    "import localvars\n",
    "\n",
    "#allows us to store results of API call cleanly\n",
    "import json\n",
    "\n",
    "# List of Years\n",
    "strYears =[\"2012\", \"2013\", \"2014\", \"2015\", \"2016\", \"2017\"]\n",
    "\n",
    "# Using for loop \n",
    "metric = pd.DataFrame() #creates a new dataframe that's empty\n",
    "for i in strYears: \n",
    "\n",
    "    #construct the API call we will use\n",
    "    baseAPI = \"https://api.census.gov/data/%s/acs/acs5?get=%s&for=tract:*&in=state:47%%20county:125&key=%s\" \n",
    "\n",
    "    calledAPI = (baseAPI % (i, \"B01001_002E\", localvars.apiKey))\n",
    "\n",
    "    #call the API and collect the response\n",
    "    response = requests.get(calledAPI)\n",
    "\n",
    "    #load the response into a JSON, ignoring the first element which is just field labels\n",
    "    formattedResponse = json.loads(response.text)[1:]\n",
    "\n",
    "    #flip the order of the response from [population, zipcode] -> [zipcode, population]\n",
    "    formattedResponse = [item[::-1] for item in formattedResponse]\n",
    "\n",
    "    #store the response in a dataframe\n",
    "    strColYear = \"y_\" + i\n",
    "    \n",
    "    \n",
    "    metrictemp = pd.DataFrame(columns=['id', '2', '3', strColYear], data=formattedResponse)\n",
    "    del metrictemp['2']\n",
    "    del metrictemp['3']\n",
    "    if i == \"2012\":\n",
    "        metric=metrictemp\n",
    "        print(calledAPI)\n",
    "    else: \n",
    "        metric = metric.merge(metrictemp, on='id', how='outer')\n",
    "    \n",
    "    \n",
    "#save that dataframe to a CSV spreadsheet\n",
    "metric.to_csv('laZipPopulations.csv', index=False)\n"
   ]
  },
  {
   "cell_type": "code",
   "execution_count": null,
   "metadata": {},
   "outputs": [],
   "source": []
  },
  {
   "cell_type": "code",
   "execution_count": null,
   "metadata": {},
   "outputs": [],
   "source": []
  },
  {
   "cell_type": "code",
   "execution_count": null,
   "metadata": {},
   "outputs": [],
   "source": []
  }
 ],
 "metadata": {
  "kernelspec": {
   "display_name": "Python 3",
   "language": "python",
   "name": "python3"
  },
  "language_info": {
   "codemirror_mode": {
    "name": "ipython",
    "version": 3
   },
   "file_extension": ".py",
   "mimetype": "text/x-python",
   "name": "python",
   "nbconvert_exporter": "python",
   "pygments_lexer": "ipython3",
   "version": "3.6.7"
  }
 },
 "nbformat": 4,
 "nbformat_minor": 2
}
