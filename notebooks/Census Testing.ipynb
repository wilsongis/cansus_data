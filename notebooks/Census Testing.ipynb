{
 "cells": [
  {
   "cell_type": "code",
   "execution_count": 13,
   "metadata": {},
   "outputs": [],
   "source": [
    "#manipulate dataframes in python\n",
    "import pandas as pd\n",
    "\n",
    "#make API calls with python\n",
    "import requests\n",
    "\n",
    "import localvars\n",
    "\n",
    "#allows us to store results of API call cleanly\n",
    "import json\n",
    "\n",
    "#get list of all zipcodes in Los Angeles County separated by commas\n",
    "laZips = open('../src/data/laZips.txt', 'r').readlines()\n",
    "laZips = [z.replace('\\n', '') for z in laZips]\n",
    "laZips = ','.join(laZips)\n",
    "\n",
    "#construct the API call we will use\n",
    "baseAPI = \"https://api.census.gov/data/2017/acs/acs5?get=B01003_001E&for=tract:*&in=state:47%20county:125&key=\" \n",
    "            \n",
    "calledAPI = baseAPI + localvars.apiKey\n",
    "\n",
    "#call the API and collect the response\n",
    "response = requests.get(calledAPI)\n",
    "\n",
    "#load the response into a JSON, ignoring the first element which is just field labels\n",
    "formattedResponse = json.loads(response.text)[1:]\n",
    "\n",
    "#flip the order of the response from [population, zipcode] -> [zipcode, population]\n",
    "formattedResponse = [item[::-1] for item in formattedResponse]\n",
    "\n",
    "#store the response in a dataframe\n",
    "metric = pd.DataFrame(columns=['id', '2', '3', 'y_2017'], data=formattedResponse)\n",
    "del metric['2']\n",
    "del metric['3']\n",
    "\n",
    "#save that dataframe to a CSV spreadsheet\n",
    "metric.to_csv('laZipPopulations.csv', index=False)\n",
    "\n"
   ]
  }
 ],
 "metadata": {
  "kernelspec": {
   "display_name": "Python 3",
   "language": "python",
   "name": "python3"
  },
  "language_info": {
   "codemirror_mode": {
    "name": "ipython",
    "version": 3
   },
   "file_extension": ".py",
   "mimetype": "text/x-python",
   "name": "python",
   "nbconvert_exporter": "python",
   "pygments_lexer": "ipython3",
   "version": "3.6.7"
  }
 },
 "nbformat": 4,
 "nbformat_minor": 2
}
