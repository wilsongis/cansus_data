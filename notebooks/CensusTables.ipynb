{
 "cells": [
  {
   "cell_type": "code",
   "execution_count": 39,
   "metadata": {},
   "outputs": [
    {
     "name": "stdout",
     "output_type": "stream",
     "text": [
      "Output: ../src/data/json/m1.json\n",
      "Output: ../src/data/json/m2.json\n",
      "Output: ../src/data/json/m3.json\n"
     ]
    }
   ],
   "source": [
    "#manipulate dataframes in python\n",
    "import pandas as pd\n",
    "import sys\n",
    "\n",
    "#make API calls with python\n",
    "import requests\n",
    "\n",
    "# sys.path.insert(0, '/path/to/application/app/folder') used to import local python file, in this case local keys\n",
    "sys.path.insert(0, '../src/')\n",
    "import localvars\n",
    "\n",
    "#allows us to store results of API call cleanly\n",
    "import json,csv\n",
    "\n",
    "# Load the first sheet of the JSON file into a data frame\n",
    "df = pd.read_json('../src/data/data.json', orient='index')\n",
    "\n",
    "# List of Years\n",
    "strYears =[\"2010\",\"2013\", \"2014\", \"2015\", \"2016\", \"2017\"]\n",
    "\n",
    "intState = 47\n",
    "intCounty = 125\n",
    "\n",
    "for index, row in df.iterrows():\n",
    "    tablename= row['table']\n",
    "    # Using for loop \n",
    "    metric = pd.DataFrame() #creates a new dataframe that's empty\n",
    "    for i in strYears: \n",
    "\n",
    "        #construct the API call we will use\n",
    "        if tablename[:1]==\"B\":\n",
    "            baseAPI = \"https://api.census.gov/data/%s/acs/acs5?get=%s&for=tract:*&in=state:%i%%20county:%i&key=%s\" \n",
    "        elif tablename[:1]==\"D\":\n",
    "            baseAPI = \"https://api.census.gov/data/%s/acs/acs5/profile?get=%s&for=tract:*&in=state:%i%%20county:%i&key=%s\" \n",
    "\n",
    "        calledAPI = (baseAPI % (i, tablename, intState, intCounty, localvars.apiKey))\n",
    "\n",
    "        #call the API and collect the response\n",
    "        response = requests.get(calledAPI)\n",
    "\n",
    "        #load the response into a JSON, ignoring the first element which is just field labels\n",
    "        try:\n",
    "            formattedResponse = json.loads(response.text)[1:]\n",
    "\n",
    "            #flip the order of the response from [population, zipcode] -> [zipcode, population]\n",
    "            formattedResponse = [item[::-1] for item in formattedResponse]\n",
    "\n",
    "            #store the response in a dataframe\n",
    "            strColYear = \"y_\" + i\n",
    "\n",
    "            metrictemp = pd.DataFrame(columns=['id', '2', '3', strColYear], data=formattedResponse)\n",
    "            del metrictemp['2']\n",
    "            del metrictemp['3']\n",
    "            if i == \"2010\":\n",
    "                metric=metrictemp\n",
    "            else: \n",
    "                metric = metric.merge(metrictemp, on='id', how='outer')\n",
    "        except:\n",
    "            print(\"Unexpected error:\", sys.exc_info()[0])\n",
    "            raise\n",
    "\n",
    "    #save that dataframe to a CSV spreadsheet\n",
    "    strFileName=str(row['metric'])\n",
    "    strFile = \"../src/data/ProcessedData/r\" + strFileName + \".csv\"\n",
    "    strJson =\"../src/data/json/m\" + strFileName + \".json\"\n",
    "    metric.to_csv(strFile, index=False)\n",
    "    \n",
    "    headers = ['id', 'y_2010', 'y_2013', 'y_2014', 'y_2015', 'y_2016', 'y_2017'] \n",
    "    dtypes = {'id':str}\n",
    "    \n",
    "    df = pd.read_csv(strFile, index_col='id', names=headers, dtype=dtypes)\n",
    "\n",
    "    df[\"y_2010\"] = pd.to_numeric(df['y_2010'], errors='coerce').fillna(0)\n",
    "    df[\"y_2013\"] = pd.to_numeric(df['y_2013'], errors='coerce').fillna(0)\n",
    "    df[\"y_2014\"] = pd.to_numeric(df['y_2014'], errors='coerce').fillna(0)\n",
    "    df[\"y_2015\"] = pd.to_numeric(df['y_2015'], errors='coerce').fillna(0)\n",
    "    df[\"y_2016\"] = pd.to_numeric(df['y_2016'], errors='coerce').fillna(0)\n",
    "    df[\"y_2017\"] = pd.to_numeric(df['y_2017'], errors='coerce').fillna(0)\n",
    "\n",
    "    export = df.to_json(strJson, orient='index')\n",
    "    print(\"Output: \" + strJson)\n",
    "\n",
    "    \n",
    "    "
   ]
  },
  {
   "cell_type": "code",
   "execution_count": null,
   "metadata": {},
   "outputs": [],
   "source": []
  },
  {
   "cell_type": "code",
   "execution_count": null,
   "metadata": {},
   "outputs": [],
   "source": []
  },
  {
   "cell_type": "code",
   "execution_count": null,
   "metadata": {},
   "outputs": [],
   "source": []
  }
 ],
 "metadata": {
  "kernelspec": {
   "display_name": "Python 3",
   "language": "python",
   "name": "python3"
  },
  "language_info": {
   "codemirror_mode": {
    "name": "ipython",
    "version": 3
   },
   "file_extension": ".py",
   "mimetype": "text/x-python",
   "name": "python",
   "nbconvert_exporter": "python",
   "pygments_lexer": "ipython3",
   "version": "3.6.7"
  }
 },
 "nbformat": 4,
 "nbformat_minor": 2
}
