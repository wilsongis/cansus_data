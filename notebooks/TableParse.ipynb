{
 "cells": [
  {
   "cell_type": "code",
   "execution_count": 1,
   "metadata": {},
   "outputs": [
    {
     "data": {
      "text/plain": [
       "[9, 1, 9, 9, 9, 9, 9, 9, 9, 9, 9, 9]"
      ]
     },
     "execution_count": 1,
     "metadata": {},
     "output_type": "execute_result"
    }
   ],
   "source": [
    "import requests\n",
    "import lxml.html as lh\n",
    "import pandas as pd\n",
    "\n",
    "url='https://api.census.gov/data/2017/acs/acs5/variables.html'\n",
    "#Create a handle, page, to handle the contents of the website\n",
    "page = requests.get(url)\n",
    "#Store the contents of the website under doc\n",
    "doc = lh.fromstring(page.content)\n",
    "#Parse data that are stored between <tr>..</tr> of HTML\n",
    "tr_elements = doc.xpath('//tr')\n",
    "\n",
    "#Check the length of the first 12 rows\n",
    "[len(T) for T in tr_elements[:12]]\n",
    "\n"
   ]
  },
  {
   "cell_type": "code",
   "execution_count": 2,
   "metadata": {},
   "outputs": [
    {
     "name": "stdout",
     "output_type": "stream",
     "text": [
      "1:Name\n",
      "2:Label\n",
      "3:Concept\n",
      "4:Required\n",
      "5:Attributes\n",
      "6:Limit\n",
      "7:Predicate Type\n",
      "8:Group\n",
      "9:Values\n"
     ]
    }
   ],
   "source": [
    "tr_elements = doc.xpath('//tr')\n",
    "#Create empty list\n",
    "col=[]\n",
    "i=0\n",
    "#For each row, store each first element (header) and an empty list\n",
    "for t in tr_elements[0]:\n",
    "    i+=1\n",
    "    name=t.text_content()\n",
    "    print ('%d:%s' % (i,name))\n",
    "    col.append((name,[]))\n",
    "    "
   ]
  },
  {
   "cell_type": "code",
   "execution_count": 3,
   "metadata": {},
   "outputs": [
    {
     "data": {
      "text/plain": [
       "[25106, 25106, 25106, 25106, 25106, 25106, 25106, 25106, 25106]"
      ]
     },
     "execution_count": 3,
     "metadata": {},
     "output_type": "execute_result"
    }
   ],
   "source": [
    "#Since out first row is the header, data is stored on the second row onwards\n",
    "for j in range(6,len(tr_elements)):\n",
    "    #T is our j'th row\n",
    "    T=tr_elements[j]\n",
    "    \n",
    "    #If row is not of size 10, the //tr data is not from our table \n",
    "    if len(T)!=9:\n",
    "        break\n",
    "    \n",
    "    #i is the index of our column\n",
    "    i=0\n",
    "    \n",
    "    #Iterate through each element of the row\n",
    "    for t in T.iterchildren():\n",
    "        data=t.text_content() \n",
    "        #Check if row is empty\n",
    "        if i>0:\n",
    "        #Convert any numerical value to integers\n",
    "            try:\n",
    "                data=int(data)\n",
    "            except:\n",
    "                pass\n",
    "        #Append the data to the empty list of the i'th column\n",
    "        col[i][1].append(data)\n",
    "        #Increment i for the next column\n",
    "        i+=1\n",
    "\n",
    "[len(C) for (title,C) in col]"
   ]
  },
  {
   "cell_type": "code",
   "execution_count": 4,
   "metadata": {},
   "outputs": [
    {
     "data": {
      "text/html": [
       "<div>\n",
       "<style scoped>\n",
       "    .dataframe tbody tr th:only-of-type {\n",
       "        vertical-align: middle;\n",
       "    }\n",
       "\n",
       "    .dataframe tbody tr th {\n",
       "        vertical-align: top;\n",
       "    }\n",
       "\n",
       "    .dataframe thead th {\n",
       "        text-align: right;\n",
       "    }\n",
       "</style>\n",
       "<table border=\"1\" class=\"dataframe\">\n",
       "  <thead>\n",
       "    <tr style=\"text-align: right;\">\n",
       "      <th></th>\n",
       "      <th>Name</th>\n",
       "      <th>Label</th>\n",
       "      <th>Concept</th>\n",
       "      <th>Required</th>\n",
       "      <th>Attributes</th>\n",
       "      <th>Limit</th>\n",
       "      <th>Predicate Type</th>\n",
       "      <th>Group</th>\n",
       "      <th>Values</th>\n",
       "    </tr>\n",
       "  </thead>\n",
       "  <tbody>\n",
       "    <tr>\n",
       "      <th>0</th>\n",
       "      <td>B00001_001E</td>\n",
       "      <td>Estimate!!Total</td>\n",
       "      <td>UNWEIGHTED SAMPLE COUNT OF THE POPULATION</td>\n",
       "      <td>not required</td>\n",
       "      <td>B00001_001EA</td>\n",
       "      <td>0</td>\n",
       "      <td>int</td>\n",
       "      <td>B00001</td>\n",
       "      <td>\\n\\t\\t\\t\\t\\t\\tN/A\\n\\t\\t\\t\\t\\t</td>\n",
       "    </tr>\n",
       "    <tr>\n",
       "      <th>1</th>\n",
       "      <td>B00002_001E</td>\n",
       "      <td>Estimate!!Total</td>\n",
       "      <td>UNWEIGHTED SAMPLE HOUSING UNITS</td>\n",
       "      <td>not required</td>\n",
       "      <td>B00002_001EA</td>\n",
       "      <td>0</td>\n",
       "      <td>int</td>\n",
       "      <td>B00002</td>\n",
       "      <td>\\n\\t\\t\\t\\t\\t\\tN/A\\n\\t\\t\\t\\t\\t</td>\n",
       "    </tr>\n",
       "    <tr>\n",
       "      <th>2</th>\n",
       "      <td>B01001_001E</td>\n",
       "      <td>Estimate!!Total</td>\n",
       "      <td>SEX BY AGE</td>\n",
       "      <td>not required</td>\n",
       "      <td>B01001_001EA,\\n                B01001_001M,\\n ...</td>\n",
       "      <td>0</td>\n",
       "      <td>(not a predicate)</td>\n",
       "      <td>B01001</td>\n",
       "      <td>\\n\\t\\t\\t\\t\\t\\tN/A\\n\\t\\t\\t\\t\\t</td>\n",
       "    </tr>\n",
       "    <tr>\n",
       "      <th>3</th>\n",
       "      <td>B01001_002E</td>\n",
       "      <td>Estimate!!Total!!Male</td>\n",
       "      <td>SEX BY AGE</td>\n",
       "      <td>not required</td>\n",
       "      <td>B01001_002EA,\\n                B01001_002M,\\n ...</td>\n",
       "      <td>0</td>\n",
       "      <td>int</td>\n",
       "      <td>B01001</td>\n",
       "      <td>\\n\\t\\t\\t\\t\\t\\tN/A\\n\\t\\t\\t\\t\\t</td>\n",
       "    </tr>\n",
       "    <tr>\n",
       "      <th>4</th>\n",
       "      <td>B01001_003E</td>\n",
       "      <td>Estimate!!Total!!Male!!Under 5 years</td>\n",
       "      <td>SEX BY AGE</td>\n",
       "      <td>not required</td>\n",
       "      <td>B01001_003EA,\\n                B01001_003M,\\n ...</td>\n",
       "      <td>0</td>\n",
       "      <td>int</td>\n",
       "      <td>B01001</td>\n",
       "      <td>\\n\\t\\t\\t\\t\\t\\tN/A\\n\\t\\t\\t\\t\\t</td>\n",
       "    </tr>\n",
       "  </tbody>\n",
       "</table>\n",
       "</div>"
      ],
      "text/plain": [
       "          Name                                 Label  \\\n",
       "0  B00001_001E                       Estimate!!Total   \n",
       "1  B00002_001E                       Estimate!!Total   \n",
       "2  B01001_001E                       Estimate!!Total   \n",
       "3  B01001_002E                 Estimate!!Total!!Male   \n",
       "4  B01001_003E  Estimate!!Total!!Male!!Under 5 years   \n",
       "\n",
       "                                     Concept      Required  \\\n",
       "0  UNWEIGHTED SAMPLE COUNT OF THE POPULATION  not required   \n",
       "1            UNWEIGHTED SAMPLE HOUSING UNITS  not required   \n",
       "2                                 SEX BY AGE  not required   \n",
       "3                                 SEX BY AGE  not required   \n",
       "4                                 SEX BY AGE  not required   \n",
       "\n",
       "                                          Attributes  Limit  \\\n",
       "0                                       B00001_001EA      0   \n",
       "1                                       B00002_001EA      0   \n",
       "2  B01001_001EA,\\n                B01001_001M,\\n ...      0   \n",
       "3  B01001_002EA,\\n                B01001_002M,\\n ...      0   \n",
       "4  B01001_003EA,\\n                B01001_003M,\\n ...      0   \n",
       "\n",
       "      Predicate Type   Group                         Values  \n",
       "0                int  B00001  \\n\\t\\t\\t\\t\\t\\tN/A\\n\\t\\t\\t\\t\\t  \n",
       "1                int  B00002  \\n\\t\\t\\t\\t\\t\\tN/A\\n\\t\\t\\t\\t\\t  \n",
       "2  (not a predicate)  B01001  \\n\\t\\t\\t\\t\\t\\tN/A\\n\\t\\t\\t\\t\\t  \n",
       "3                int  B01001  \\n\\t\\t\\t\\t\\t\\tN/A\\n\\t\\t\\t\\t\\t  \n",
       "4                int  B01001  \\n\\t\\t\\t\\t\\t\\tN/A\\n\\t\\t\\t\\t\\t  "
      ]
     },
     "execution_count": 4,
     "metadata": {},
     "output_type": "execute_result"
    }
   ],
   "source": [
    "Dict={title:column for (title,column) in col}\n",
    "df=pd.DataFrame(Dict)\n",
    "\n",
    "df.head()"
   ]
  },
  {
   "cell_type": "code",
   "execution_count": null,
   "metadata": {},
   "outputs": [],
   "source": []
  }
 ],
 "metadata": {
  "kernelspec": {
   "display_name": "Python 3",
   "language": "python",
   "name": "python3"
  },
  "language_info": {
   "codemirror_mode": {
    "name": "ipython",
    "version": 3
   },
   "file_extension": ".py",
   "mimetype": "text/x-python",
   "name": "python",
   "nbconvert_exporter": "python",
   "pygments_lexer": "ipython3",
   "version": "3.6.7"
  }
 },
 "nbformat": 4,
 "nbformat_minor": 2
}
